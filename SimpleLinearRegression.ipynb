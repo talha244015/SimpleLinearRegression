{
  "nbformat": 4,
  "nbformat_minor": 0,
  "metadata": {
    "colab": {
      "provenance": [],
      "authorship_tag": "ABX9TyO1Q5ljZyQnwGC/axR1Z8I9",
      "include_colab_link": true
    },
    "kernelspec": {
      "name": "python3",
      "display_name": "Python 3"
    },
    "language_info": {
      "name": "python"
    }
  },
  "cells": [
    {
      "cell_type": "markdown",
      "metadata": {
        "id": "view-in-github",
        "colab_type": "text"
      },
      "source": [
        "<a href=\"https://colab.research.google.com/github/talha244015/SimpleLinearRegression/blob/main/SimpleLinearRegression.ipynb\" target=\"_parent\"><img src=\"https://colab.research.google.com/assets/colab-badge.svg\" alt=\"Open In Colab\"/></a>"
      ]
    },
    {
      "cell_type": "code",
      "execution_count": 121,
      "metadata": {
        "id": "XYOXpB8lEStN"
      },
      "outputs": [],
      "source": [
        "import pandas as pd\n",
        "import numpy as np"
      ]
    },
    {
      "cell_type": "code",
      "source": [
        "df=pd.read_csv('/placement.csv')\n",
        "x=df.iloc[:,0].values\n",
        "y=df.iloc[:,-1].values\n",
        "type(x)"
      ],
      "metadata": {
        "colab": {
          "base_uri": "https://localhost:8080/"
        },
        "id": "5yr0q_HIEXMT",
        "outputId": "bb04c21b-d1d5-49e9-ec4a-2061ec566f37"
      },
      "execution_count": 122,
      "outputs": [
        {
          "output_type": "execute_result",
          "data": {
            "text/plain": [
              "numpy.ndarray"
            ]
          },
          "metadata": {},
          "execution_count": 122
        }
      ]
    },
    {
      "cell_type": "code",
      "source": [
        "from sklearn.model_selection import train_test_split\n",
        "x_train,x_test,y_train,y_test=train_test_split(x,y,test_size=0.2,random_state=2)\n",
        "x_test\n"
      ],
      "metadata": {
        "colab": {
          "base_uri": "https://localhost:8080/"
        },
        "id": "xiaHJfaUGGKk",
        "outputId": "88be60fa-847b-4372-c2ab-6a6f20283dc9"
      },
      "execution_count": 123,
      "outputs": [
        {
          "output_type": "execute_result",
          "data": {
            "text/plain": [
              "array([8.58, 7.15, 5.88, 6.22, 4.57, 4.79, 5.32, 6.86, 8.35, 6.87, 8.94,\n",
              "       7.9 , 6.93, 5.91, 7.32, 7.82, 5.09, 7.42, 6.94, 7.73, 6.19, 7.28,\n",
              "       6.73, 7.2 , 8.21, 6.75, 7.87, 7.6 , 8.63, 5.12, 8.15, 7.36, 8.31,\n",
              "       6.6 , 6.59, 7.47, 7.93, 6.29, 6.37, 6.47])"
            ]
          },
          "metadata": {},
          "execution_count": 123
        }
      ]
    },
    {
      "cell_type": "code",
      "source": [
        "x_train.shape"
      ],
      "metadata": {
        "colab": {
          "base_uri": "https://localhost:8080/"
        },
        "id": "REsJ9Y3_G2Zv",
        "outputId": "3f5f6491-41e1-425c-bf38-c076b84467be"
      },
      "execution_count": 124,
      "outputs": [
        {
          "output_type": "execute_result",
          "data": {
            "text/plain": [
              "(160,)"
            ]
          },
          "metadata": {},
          "execution_count": 124
        }
      ]
    },
    {
      "cell_type": "code",
      "source": [
        "class LinearSimpleRegression:\n",
        "  def __init__(self):\n",
        "    self.m=None\n",
        "    self.b=None\n",
        "  def fit(self,x_train,y_train):\n",
        "    num=0\n",
        "    denum=0\n",
        "    for i in range(x_train.shape[0]):\n",
        "      num =num+( (x_train[i] - x_train.mean()) * (y_train[i] - y_train.mean()))\n",
        "      denum = denum+((x_train[i] - x_train.mean()) ** 2)\n",
        "\n",
        "    self.m=num/denum\n",
        "    self.b=(y_train.mean()-(self.m*x_train.mean()))\n",
        "  def predict(self,x_test):\n",
        "    return self.m*x_test+self.b\n",
        "\n",
        "\n",
        ""
      ],
      "metadata": {
        "id": "kCMXtNMAEXSe"
      },
      "execution_count": 125,
      "outputs": []
    },
    {
      "cell_type": "code",
      "source": [
        "from sklearn.model_selection import train_test_split\n",
        "x_train,x_test,y_train,y_test=train_test_split(x,y,test_size=0.2,random_state=2)"
      ],
      "metadata": {
        "id": "JfZlB7XZEXX0"
      },
      "execution_count": 126,
      "outputs": []
    },
    {
      "cell_type": "code",
      "source": [
        "lr=LinearSimpleRegression()\n",
        "lr.fit(x_train,y_train)\n",
        "cgpa=input(\"provide your cgpa?\")\n",
        "cgpa=float(cgpa)\n",
        "print(\"your expected salary will be\" ,lr.predict(cgpa))"
      ],
      "metadata": {
        "colab": {
          "base_uri": "https://localhost:8080/"
        },
        "id": "xlECydYJEXdC",
        "outputId": "d10ad366-c6f9-4f95-dc5b-6c8432ec774d"
      },
      "execution_count": 130,
      "outputs": [
        {
          "output_type": "stream",
          "name": "stdout",
          "text": [
            "provide your cgpa?8.58\n",
            "your expected salary will be 3.891116009744203\n"
          ]
        }
      ]
    },
    {
      "cell_type": "code",
      "source": [],
      "metadata": {
        "id": "9Z2SBA1oEXgS"
      },
      "execution_count": 127,
      "outputs": []
    },
    {
      "cell_type": "code",
      "metadata": {
        "collapsed": true,
        "id": "d1a95bd7"
      },
      "source": [],
      "execution_count": 127,
      "outputs": []
    }
  ]
}